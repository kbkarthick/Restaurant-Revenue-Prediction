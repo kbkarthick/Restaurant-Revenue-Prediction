{
 "cells": [
  {
   "cell_type": "code",
   "execution_count": null,
   "metadata": {
    "_cell_guid": "bb3b48f7-0e1c-4474-af64-96f4e7019f8a",
    "_uuid": "c5a994496ad58eab89bbf32da41a95a5c4c56b57"
   },
   "outputs": [],
   "source": [
    "import math as mh\n",
    "import numpy as np # linear algebra\n",
    "import pandas as pd # data processing, CSV file I/O (e.g. pd.read_csv)\n",
    "\n",
    "# For visualizations\n",
    "import seaborn as sns\n",
    "import matplotlib.pyplot as plt\n",
    "% config InlineBackend.figure_format = 'png'\n",
    "% matplotlib inline"
   ]
  },
  {
   "cell_type": "code",
   "execution_count": 27,
   "metadata": {
    "_cell_guid": "bb3b48f7-0e1c-4474-af64-96f4e7019f8a",
    "_uuid": "c5a994496ad58eab89bbf32da41a95a5c4c56b57"
   },
   "outputs": [],
   "source": [
    "# For data parsing\n",
    "from datetime import datetime\n",
    "\n",
    "# For choosing attributes that have good gaussian distribution\n",
    "from scipy.stats import shapiro\n",
    "\n",
    "# Needed for getting parameters for models\n",
    "from sklearn.model_selection import LeaveOneOut\n",
    "from sklearn.model_selection import GridSearchCV, RandomizedSearchCV\n",
    "\n",
    "# Models\n",
    "from sklearn.svm import SVR, LinearSVR\n",
    "from sklearn.ensemble import RandomForestRegressor, ExtraTreesClassifier\n",
    "from sklearn.linear_model import Ridge, Lasso\n",
    "from sklearn import cluster\n",
    "from sklearn.neighbors import KNeighborsClassifier\n",
    "\n",
    "# For scaling/normalizing values\n",
    "from sklearn.preprocessing import MinMaxScaler\n",
    "\n",
    "# Input data files are available in the \"../input/\" directory.\n",
    "# For example, running this (by clicking run or pressing Shift+Enter) will list the files in the input directory"
   ]
  },
  {
   "cell_type": "code",
   "execution_count": 4,
   "metadata": {
    "_cell_guid": "f14654a2-39ab-48b2-b826-1372aab78354",
    "_uuid": "be8d54871acbff0e965c228f95f5dd26299ef55a"
   },
   "outputs": [
    {
     "name": "stdout",
     "output_type": "stream",
     "text": [
      "Train : (137, 43)\n",
      "Test: (100000, 42)\n"
     ]
    }
   ],
   "source": [
    "train = pd.read_csv(\"data/train.csv\")\n",
    "test = pd.read_csv(\"data/test.csv\")\n",
    "print(\"Train :\",train.shape)\n",
    "print(\"Test:\",test.shape)"
   ]
  },
  {
   "cell_type": "code",
   "execution_count": 5,
   "metadata": {
    "_cell_guid": "699fbcfa-2348-4ae6-8f8b-71842f24c763",
    "_uuid": "1c2c681da53bd083f2d253a19faee6854c247fad"
   },
   "outputs": [
    {
     "name": "stdout",
     "output_type": "stream",
     "text": [
      "137 100000\n"
     ]
    }
   ],
   "source": [
    "# Calculate number of samples in training and test datasets\n",
    "num_train = train.shape[0]\n",
    "num_test = test.shape[0]\n",
    "print(num_train, num_test)\n",
    "\n",
    "# For feature engineering, combine train and test data\n",
    "data = pd.concat((train.loc[:, \"Open Date\" : \"P37\"],\n",
    "                  test.loc[:, \"Open Date\" : \"P37\"]), ignore_index=True)"
   ]
  },
  {
   "cell_type": "code",
   "execution_count": 6,
   "metadata": {
    "_cell_guid": "af735b66-e309-4f71-8e86-1c6eca4282e2",
    "_uuid": "e007c07ffaf5f4011d6169bccd9d307bb29833c3"
   },
   "outputs": [
    {
     "data": {
      "text/html": [
       "<div>\n",
       "<style scoped>\n",
       "    .dataframe tbody tr th:only-of-type {\n",
       "        vertical-align: middle;\n",
       "    }\n",
       "\n",
       "    .dataframe tbody tr th {\n",
       "        vertical-align: top;\n",
       "    }\n",
       "\n",
       "    .dataframe thead th {\n",
       "        text-align: right;\n",
       "    }\n",
       "</style>\n",
       "<table border=\"1\" class=\"dataframe\">\n",
       "  <thead>\n",
       "    <tr style=\"text-align: right;\">\n",
       "      <th></th>\n",
       "      <th>Open Date</th>\n",
       "      <th>City</th>\n",
       "      <th>City Group</th>\n",
       "      <th>Type</th>\n",
       "      <th>P1</th>\n",
       "      <th>P2</th>\n",
       "      <th>P3</th>\n",
       "      <th>P4</th>\n",
       "      <th>P5</th>\n",
       "      <th>P6</th>\n",
       "      <th>...</th>\n",
       "      <th>P28</th>\n",
       "      <th>P29</th>\n",
       "      <th>P30</th>\n",
       "      <th>P31</th>\n",
       "      <th>P32</th>\n",
       "      <th>P33</th>\n",
       "      <th>P34</th>\n",
       "      <th>P35</th>\n",
       "      <th>P36</th>\n",
       "      <th>P37</th>\n",
       "    </tr>\n",
       "  </thead>\n",
       "  <tbody>\n",
       "    <tr>\n",
       "      <th>100132</th>\n",
       "      <td>01/05/2000</td>\n",
       "      <td>Antalya</td>\n",
       "      <td>Other</td>\n",
       "      <td>FC</td>\n",
       "      <td>5</td>\n",
       "      <td>5.0</td>\n",
       "      <td>4.0</td>\n",
       "      <td>4.0</td>\n",
       "      <td>2</td>\n",
       "      <td>2</td>\n",
       "      <td>...</td>\n",
       "      <td>2.0</td>\n",
       "      <td>3.0</td>\n",
       "      <td>0</td>\n",
       "      <td>0</td>\n",
       "      <td>0</td>\n",
       "      <td>0</td>\n",
       "      <td>0</td>\n",
       "      <td>0</td>\n",
       "      <td>0</td>\n",
       "      <td>0</td>\n",
       "    </tr>\n",
       "    <tr>\n",
       "      <th>100133</th>\n",
       "      <td>07/18/2011</td>\n",
       "      <td>Niğde</td>\n",
       "      <td>Other</td>\n",
       "      <td>IL</td>\n",
       "      <td>1</td>\n",
       "      <td>2.0</td>\n",
       "      <td>4.0</td>\n",
       "      <td>3.0</td>\n",
       "      <td>1</td>\n",
       "      <td>1</td>\n",
       "      <td>...</td>\n",
       "      <td>1.0</td>\n",
       "      <td>3.0</td>\n",
       "      <td>5</td>\n",
       "      <td>0</td>\n",
       "      <td>0</td>\n",
       "      <td>0</td>\n",
       "      <td>4</td>\n",
       "      <td>0</td>\n",
       "      <td>0</td>\n",
       "      <td>0</td>\n",
       "    </tr>\n",
       "    <tr>\n",
       "      <th>100134</th>\n",
       "      <td>12/29/2012</td>\n",
       "      <td>İstanbul</td>\n",
       "      <td>Big Cities</td>\n",
       "      <td>IL</td>\n",
       "      <td>4</td>\n",
       "      <td>5.0</td>\n",
       "      <td>4.0</td>\n",
       "      <td>4.0</td>\n",
       "      <td>1</td>\n",
       "      <td>2</td>\n",
       "      <td>...</td>\n",
       "      <td>4.0</td>\n",
       "      <td>1.0</td>\n",
       "      <td>5</td>\n",
       "      <td>5</td>\n",
       "      <td>3</td>\n",
       "      <td>2</td>\n",
       "      <td>4</td>\n",
       "      <td>4</td>\n",
       "      <td>4</td>\n",
       "      <td>2</td>\n",
       "    </tr>\n",
       "    <tr>\n",
       "      <th>100135</th>\n",
       "      <td>10/12/2013</td>\n",
       "      <td>İstanbul</td>\n",
       "      <td>Big Cities</td>\n",
       "      <td>FC</td>\n",
       "      <td>12</td>\n",
       "      <td>7.5</td>\n",
       "      <td>6.0</td>\n",
       "      <td>6.0</td>\n",
       "      <td>4</td>\n",
       "      <td>4</td>\n",
       "      <td>...</td>\n",
       "      <td>7.5</td>\n",
       "      <td>5.0</td>\n",
       "      <td>0</td>\n",
       "      <td>0</td>\n",
       "      <td>0</td>\n",
       "      <td>4</td>\n",
       "      <td>0</td>\n",
       "      <td>0</td>\n",
       "      <td>0</td>\n",
       "      <td>0</td>\n",
       "    </tr>\n",
       "    <tr>\n",
       "      <th>100136</th>\n",
       "      <td>10/05/2010</td>\n",
       "      <td>İstanbul</td>\n",
       "      <td>Big Cities</td>\n",
       "      <td>IL</td>\n",
       "      <td>2</td>\n",
       "      <td>5.0</td>\n",
       "      <td>4.0</td>\n",
       "      <td>4.0</td>\n",
       "      <td>2</td>\n",
       "      <td>2</td>\n",
       "      <td>...</td>\n",
       "      <td>5.0</td>\n",
       "      <td>3.0</td>\n",
       "      <td>0</td>\n",
       "      <td>2</td>\n",
       "      <td>0</td>\n",
       "      <td>2</td>\n",
       "      <td>2</td>\n",
       "      <td>4</td>\n",
       "      <td>2</td>\n",
       "      <td>0</td>\n",
       "    </tr>\n",
       "  </tbody>\n",
       "</table>\n",
       "<p>5 rows × 41 columns</p>\n",
       "</div>"
      ],
      "text/plain": [
       "         Open Date      City  City Group Type  P1   P2   P3   P4  P5  P6  ...  \\\n",
       "100132  01/05/2000   Antalya       Other   FC   5  5.0  4.0  4.0   2   2  ...   \n",
       "100133  07/18/2011     Niğde       Other   IL   1  2.0  4.0  3.0   1   1  ...   \n",
       "100134  12/29/2012  İstanbul  Big Cities   IL   4  5.0  4.0  4.0   1   2  ...   \n",
       "100135  10/12/2013  İstanbul  Big Cities   FC  12  7.5  6.0  6.0   4   4  ...   \n",
       "100136  10/05/2010  İstanbul  Big Cities   IL   2  5.0  4.0  4.0   2   2  ...   \n",
       "\n",
       "        P28  P29  P30  P31  P32  P33  P34  P35  P36  P37  \n",
       "100132  2.0  3.0    0    0    0    0    0    0    0    0  \n",
       "100133  1.0  3.0    5    0    0    0    4    0    0    0  \n",
       "100134  4.0  1.0    5    5    3    2    4    4    4    2  \n",
       "100135  7.5  5.0    0    0    0    4    0    0    0    0  \n",
       "100136  5.0  3.0    0    2    0    2    2    4    2    0  \n",
       "\n",
       "[5 rows x 41 columns]"
      ]
     },
     "execution_count": 6,
     "metadata": {},
     "output_type": "execute_result"
    }
   ],
   "source": [
    "data.tail()"
   ]
  },
  {
   "cell_type": "code",
   "execution_count": 7,
   "metadata": {
    "_cell_guid": "6c2c342d-96cb-4641-8ace-769aa14a3754",
    "_uuid": "bfd22a66de0868180cd9086073d2178f95114be4"
   },
   "outputs": [
    {
     "data": {
      "text/plain": [
       "['Open Date',\n",
       " 'City',\n",
       " 'City Group',\n",
       " 'Type',\n",
       " 'P1',\n",
       " 'P2',\n",
       " 'P3',\n",
       " 'P4',\n",
       " 'P5',\n",
       " 'P6',\n",
       " 'P7',\n",
       " 'P8',\n",
       " 'P9',\n",
       " 'P10',\n",
       " 'P11',\n",
       " 'P12',\n",
       " 'P13',\n",
       " 'P14',\n",
       " 'P15',\n",
       " 'P16',\n",
       " 'P17',\n",
       " 'P18',\n",
       " 'P19',\n",
       " 'P20',\n",
       " 'P21',\n",
       " 'P22',\n",
       " 'P23',\n",
       " 'P24',\n",
       " 'P25',\n",
       " 'P26',\n",
       " 'P27',\n",
       " 'P28',\n",
       " 'P29',\n",
       " 'P30',\n",
       " 'P31',\n",
       " 'P32',\n",
       " 'P33',\n",
       " 'P34',\n",
       " 'P35',\n",
       " 'P36',\n",
       " 'P37']"
      ]
     },
     "execution_count": 7,
     "metadata": {},
     "output_type": "execute_result"
    }
   ],
   "source": [
    "#Get name of all headers of data frame\n",
    "#list(data)\n",
    "data.columns.values.tolist()"
   ]
  },
  {
   "cell_type": "markdown",
   "metadata": {
    "_cell_guid": "cdb4a0c6-477f-48f1-93a1-bc6cd4d564b0",
    "_uuid": "05873c89aeec681b5bfd0cf50bba28ede486d270"
   },
   "source": [
    "**Check for Missing values and plot for each column**"
   ]
  },
  {
   "cell_type": "code",
   "execution_count": 8,
   "metadata": {
    "_cell_guid": "4618cf09-8181-41a0-86c5-e7dbd22fd2c6",
    "_uuid": "0e9560bf34ce732cbfd588997253edd95b34654e"
   },
   "outputs": [
    {
     "name": "stdout",
     "output_type": "stream",
     "text": [
      "Open Date     0\n",
      "City          0\n",
      "City Group    0\n",
      "Type          0\n",
      "P1            0\n",
      "P2            0\n",
      "P3            0\n",
      "P4            0\n",
      "P5            0\n",
      "P6            0\n",
      "P7            0\n",
      "P8            0\n",
      "P9            0\n",
      "P10           0\n",
      "P11           0\n",
      "P12           0\n",
      "P13           0\n",
      "P14           0\n",
      "P15           0\n",
      "P16           0\n",
      "P17           0\n",
      "P18           0\n",
      "P19           0\n",
      "P20           0\n",
      "P21           0\n",
      "P22           0\n",
      "P23           0\n",
      "P24           0\n",
      "P25           0\n",
      "P26           0\n",
      "P27           0\n",
      "P28           0\n",
      "P29           0\n",
      "P30           0\n",
      "P31           0\n",
      "P32           0\n",
      "P33           0\n",
      "P34           0\n",
      "P35           0\n",
      "P36           0\n",
      "P37           0\n",
      "dtype: int64\n"
     ]
    },
    {
     "data": {
      "image/png": "[encoded data removed]",
      "text/plain": [
       "<Figure size 864x1296 with 1 Axes>"
      ]
     },
     "metadata": {
      "needs_background": "light"
     },
     "output_type": "display_data"
    }
   ],
   "source": [
    "print(data.isnull().sum().T) #No null values in any column, so no imputation and removal of rows\n",
    "missing_df = data.isnull().sum(axis=0).reset_index()\n",
    "missing_df.columns = ['column_name', 'missing_count']\n",
    "missing_df = missing_df.loc[missing_df['missing_count']>0]\n",
    "missing_df = missing_df.sort_values(by='missing_count')\n",
    "\n",
    "ind = np.arange(missing_df.shape[0])\n",
    "width = 0.9\n",
    "fig, ax = plt.subplots(figsize=(12,18))\n",
    "rects = ax.barh(ind, missing_df.missing_count.values, color='blue')\n",
    "ax.set_yticks(ind)\n",
    "ax.set_yticklabels(missing_df.column_name.values, rotation='horizontal')\n",
    "ax.set_xlabel(\"Count of missing values\")\n",
    "ax.set_title(\"Number of missing values in each column\")\n",
    "plt.show()"
   ]
  },
  {
   "cell_type": "code",
   "execution_count": 9,
   "metadata": {
    "_cell_guid": "cdedd0ad-71b1-4fba-aaca-464ad6134f45",
    "_uuid": "b3def039c1c33641fea429880ec84f489cf06a57"
   },
   "outputs": [
    {
     "name": "stdout",
     "output_type": "stream",
     "text": [
      "    Open Date        City  City Group Type  P1   P2   P3   P4  P5  P6  ...  \\\n",
      "0  07/17/1999    İstanbul  Big Cities   IL   4  5.0  4.0  4.0   2   2  ...   \n",
      "1  02/14/2008      Ankara  Big Cities   FC   4  5.0  4.0  4.0   1   2  ...   \n",
      "2  03/09/2013  Diyarbakır       Other   IL   2  4.0  2.0  5.0   2   3  ...   \n",
      "3  02/02/2012       Tokat       Other   IL   6  4.5  6.0  6.0   4   4  ...   \n",
      "4  05/09/2009   Gaziantep       Other   IL   3  4.0  3.0  4.0   2   2  ...   \n",
      "\n",
      "   P29  P30  P31  P32  P33  P34  P35  P36  P37  Days_from_open  \n",
      "0  3.0    5    3    4    5    5    4    3    4               7  \n",
      "1  3.0    0    0    0    0    0    0    0    0               4  \n",
      "2  3.0    0    0    0    0    0    0    0    0               2  \n",
      "3  7.5   25   12   10    6   18   12   12    6               3  \n",
      "4  3.0    5    1    3    2    3    4    3    3               4  \n",
      "\n",
      "[5 rows x 42 columns]\n"
     ]
    }
   ],
   "source": [
    "# Convert date to days\n",
    "# Have to drop date \n",
    "import time\n",
    "from datetime import datetime as dt\n",
    "# train\n",
    "all_diff = []\n",
    "for date in data[\"Open Date\"]:\n",
    "    diff = dt.now() - dt.strptime(date, \"%m/%d/%Y\")\n",
    "    all_diff.append(int(diff.days/1000))\n",
    "\n",
    "data['Days_from_open'] = pd.Series(all_diff)\n",
    "print(data.head())"
   ]
  },
  {
   "cell_type": "code",
   "execution_count": 10,
   "metadata": {
    "_cell_guid": "e358274f-9a12-4343-b18e-93051a186acb",
    "_uuid": "48d0d1b21acd2ba87d8bd9692900e085120cede5"
   },
   "outputs": [],
   "source": [
    "#Drop Open Date Column\n",
    "data = data.drop('Open Date', axis=1)"
   ]
  },
  {
   "cell_type": "code",
   "execution_count": 11,
   "metadata": {
    "_cell_guid": "e4c49225-dee9-4b1c-9166-2dd99f89c576",
    "_uuid": "a19b6fcf5be0129e15afa9d7d52368d55accf8a3",
    "scrolled": true
   },
   "outputs": [
    {
     "data": {
      "text/plain": [
       "<matplotlib.axes._subplots.AxesSubplot at 0x25cd9039b20>"
      ]
     },
     "execution_count": 11,
     "metadata": {},
     "output_type": "execute_result"
    },
    {
     "data": {
      "image/png": "[encoded data removed]",
      "text/plain": [
       "<Figure size 1296x432 with 1 Axes>"
      ]
     },
     "metadata": {
      "needs_background": "light"
     },
     "output_type": "display_data"
    }
   ],
   "source": [
    "# Plotting mean of P-variables over each city helps us see which P-variables are highly related to City\n",
    "# since we are given that one class of P-variables is geographical attributes.\n",
    "distinct_cities = train.loc[:, \"City\"].unique()\n",
    "\n",
    "# Get the mean of each p-variable for each city\n",
    "means = []\n",
    "for col in train.columns[5:42]:\n",
    "    temp = []\n",
    "    for city in distinct_cities:\n",
    "        temp.append(train.loc[train.City == city, col].mean())     \n",
    "    means.append(temp)\n",
    "    \n",
    "# Construct data frame for plotting\n",
    "city_pvars = pd.DataFrame(columns=[\"city_var\", \"means\"])\n",
    "for i in range(37):\n",
    "    for j in range(len(distinct_cities)):\n",
    "        city_pvars.loc[i+37*j] = [\"P\"+str(i+1), means[i][j]]\n",
    "        \n",
    "# Plot boxplot\n",
    "plt.rcParams['figure.figsize'] = (18.0, 6.0)\n",
    "sns.boxplot(x=\"city_var\", y=\"means\", data=city_pvars)\n",
    "\n",
    "# From this we observe that P1, P2, P11, P19, P20, P23, and P30 are approximately a good\n",
    "# proxy for geographical location."
   ]
  },
  {
   "cell_type": "code",
   "execution_count": 15,
   "metadata": {
    "_cell_guid": "1a456fd6-07f1-43d2-8815-1a03e6103c50",
    "_uuid": "a145d232f8a433df8dbe3caf66bf35e658f6f405"
   },
   "outputs": [],
   "source": [
    "# K Means treatment for city (mentioned in the paper)\n",
    "def adjust_cities(data, train, k):\n",
    "    \n",
    "    # As found by box plot of each city's mean over each p-var\n",
    "    relevant_pvars =  [\"P1\", \"P2\", \"P11\", \"P19\", \"P20\", \"P23\", \"P30\"]\n",
    "    train = train.loc[:, relevant_pvars]\n",
    "    \n",
    "    # Optimal k is 20 as found by DB-Index plot    \n",
    "    kmeans = cluster.KMeans(n_clusters=k)\n",
    "    kmeans.fit(train)\n",
    "    \n",
    "    # Get the cluster centers and classify city of each data instance to one of the centers\n",
    "    data['City Cluster'] = kmeans.predict(data.loc[:, relevant_pvars])\n",
    "    del data[\"City\"]\n",
    "    \n",
    "    return data\n",
    "\n",
    "# Convert unknown cities in test data to clusters based on known cities using KMeans\n",
    "data = adjust_cities(data, train, 20)"
   ]
  },
  {
   "cell_type": "code",
   "execution_count": 16,
   "metadata": {
    "_cell_guid": "063c627f-6c41-46b5-950d-662568f6bc9d",
    "_uuid": "5cd710ce35609725efc62e12919d529c1f093a13"
   },
   "outputs": [
    {
     "data": {
      "text/plain": [
       "<matplotlib.axes._subplots.AxesSubplot at 0x25cdb376550>"
      ]
     },
     "execution_count": 16,
     "metadata": {},
     "output_type": "execute_result"
    },
    {
     "data": {
      "image/png": "[encoded data removed]",
      "text/plain": [
       "<Figure size 432x432 with 1 Axes>"
      ]
     },
     "metadata": {
      "needs_background": "light"
     },
     "output_type": "display_data"
    }
   ],
   "source": [
    "# The two categories of City Group both appear very frequently\n",
    "plt.rcParams['figure.figsize'] = (6.0, 6.0)\n",
    "sns.countplot(x='City Group', data=train, palette=\"Greens_d\")"
   ]
  },
  {
   "cell_type": "code",
   "execution_count": 17,
   "metadata": {
    "_cell_guid": "e3abd2f8-a32f-414c-8fe7-8e0d4c9d36d8",
    "_uuid": "6ee823095527b7ae57f716c005dedb9badfed500"
   },
   "outputs": [],
   "source": [
    "# One hot encode City Group\n",
    "data = data.join(pd.get_dummies(data['City Group'], prefix=\"CG\"))\n",
    "\n",
    "# Since only n-1 columns are needed to binarize n categories, drop one of the new columns.  \n",
    "# And drop the original columns.\n",
    "data = data.drop([\"City Group\", \"CG_Other\"], axis=1)"
   ]
  },
  {
   "cell_type": "code",
   "execution_count": 18,
   "metadata": {
    "_cell_guid": "fdc8909b-c5ea-461a-a99b-e3b50e1d1036",
    "_uuid": "4de568b690f7d054be2300bedbbcb9daa9ed3f6c"
   },
   "outputs": [
    {
     "data": {
      "text/plain": [
       "Type               object\n",
       "P1                  int64\n",
       "P2                float64\n",
       "P3                float64\n",
       "P4                float64\n",
       "P5                  int64\n",
       "P6                  int64\n",
       "P7                  int64\n",
       "P8                  int64\n",
       "P9                  int64\n",
       "P10                 int64\n",
       "P11                 int64\n",
       "P12                 int64\n",
       "P13               float64\n",
       "P14                 int64\n",
       "P15                 int64\n",
       "P16                 int64\n",
       "P17                 int64\n",
       "P18                 int64\n",
       "P19                 int64\n",
       "P20                 int64\n",
       "P21                 int64\n",
       "P22                 int64\n",
       "P23                 int64\n",
       "P24                 int64\n",
       "P25                 int64\n",
       "P26               float64\n",
       "P27               float64\n",
       "P28               float64\n",
       "P29               float64\n",
       "P30                 int64\n",
       "P31                 int64\n",
       "P32                 int64\n",
       "P33                 int64\n",
       "P34                 int64\n",
       "P35                 int64\n",
       "P36                 int64\n",
       "P37                 int64\n",
       "Days_from_open      int64\n",
       "City Cluster        int32\n",
       "CG_Big Cities       uint8\n",
       "dtype: object"
      ]
     },
     "execution_count": 18,
     "metadata": {},
     "output_type": "execute_result"
    }
   ],
   "source": [
    "#Check the data type of all columns\n",
    "data.dtypes"
   ]
  },
  {
   "cell_type": "code",
   "execution_count": 19,
   "metadata": {
    "_cell_guid": "4a2f8d08-44e0-457d-8272-35b633db41dc",
    "_uuid": "1dc3284aa77b030603f003f16dd47d6300c98ef6"
   },
   "outputs": [
    {
     "data": {
      "text/plain": [
       "<matplotlib.axes._subplots.AxesSubplot at 0x25cd96d19a0>"
      ]
     },
     "execution_count": 19,
     "metadata": {},
     "output_type": "execute_result"
    },
    {
     "data": {
      "image/png": "[encoded data removed]",
      "text/plain": [
       "<Figure size 432x432 with 1 Axes>"
      ]
     },
     "metadata": {
      "needs_background": "light"
     },
     "output_type": "display_data"
    }
   ],
   "source": [
    "#Check the type column \n",
    "# Two of the four Restaurant Types (DT and MB), are extremely rare\n",
    "sns.countplot(x='Type', data=data, palette=\"Greens_d\")"
   ]
  },
  {
   "cell_type": "code",
   "execution_count": 20,
   "metadata": {
    "_cell_guid": "06de99ec-9905-4c4b-bd67-49bb0802bcdd",
    "_uuid": "8f69d7c9a0a4381f46a5627d2b1061ecc8e72473"
   },
   "outputs": [],
   "source": [
    "# One hot encode Restaurant Type\n",
    "data = data.join(pd.get_dummies(data['Type'], prefix=\"T\"))\n",
    " \n",
    "# Drop the original column\n",
    "data = data.drop([\"Type\"], axis=1)"
   ]
  },
  {
   "cell_type": "code",
   "execution_count": 21,
   "metadata": {
    "_cell_guid": "fb095f07-41a3-40b3-8487-9feb3b4f2ecd",
    "_uuid": "e4567a98f89d8abe933889c09bf29ee1432b32ae"
   },
   "outputs": [
    {
     "data": {
      "text/html": [
       "<div>\n",
       "<style scoped>\n",
       "    .dataframe tbody tr th:only-of-type {\n",
       "        vertical-align: middle;\n",
       "    }\n",
       "\n",
       "    .dataframe tbody tr th {\n",
       "        vertical-align: top;\n",
       "    }\n",
       "\n",
       "    .dataframe thead th {\n",
       "        text-align: right;\n",
       "    }\n",
       "</style>\n",
       "<table border=\"1\" class=\"dataframe\">\n",
       "  <thead>\n",
       "    <tr style=\"text-align: right;\">\n",
       "      <th></th>\n",
       "      <th>P1</th>\n",
       "      <th>P2</th>\n",
       "      <th>P3</th>\n",
       "      <th>P4</th>\n",
       "      <th>P5</th>\n",
       "      <th>P6</th>\n",
       "      <th>P7</th>\n",
       "      <th>P8</th>\n",
       "      <th>P9</th>\n",
       "      <th>P10</th>\n",
       "      <th>...</th>\n",
       "      <th>P35</th>\n",
       "      <th>P36</th>\n",
       "      <th>P37</th>\n",
       "      <th>Days_from_open</th>\n",
       "      <th>City Cluster</th>\n",
       "      <th>CG_Big Cities</th>\n",
       "      <th>T_DT</th>\n",
       "      <th>T_FC</th>\n",
       "      <th>T_IL</th>\n",
       "      <th>T_MB</th>\n",
       "    </tr>\n",
       "  </thead>\n",
       "  <tbody>\n",
       "    <tr>\n",
       "      <th>0</th>\n",
       "      <td>4</td>\n",
       "      <td>5.0</td>\n",
       "      <td>4.0</td>\n",
       "      <td>4.0</td>\n",
       "      <td>2</td>\n",
       "      <td>2</td>\n",
       "      <td>5</td>\n",
       "      <td>4</td>\n",
       "      <td>5</td>\n",
       "      <td>5</td>\n",
       "      <td>...</td>\n",
       "      <td>4</td>\n",
       "      <td>3</td>\n",
       "      <td>4</td>\n",
       "      <td>7</td>\n",
       "      <td>4</td>\n",
       "      <td>1</td>\n",
       "      <td>0</td>\n",
       "      <td>0</td>\n",
       "      <td>1</td>\n",
       "      <td>0</td>\n",
       "    </tr>\n",
       "    <tr>\n",
       "      <th>1</th>\n",
       "      <td>4</td>\n",
       "      <td>5.0</td>\n",
       "      <td>4.0</td>\n",
       "      <td>4.0</td>\n",
       "      <td>1</td>\n",
       "      <td>2</td>\n",
       "      <td>5</td>\n",
       "      <td>5</td>\n",
       "      <td>5</td>\n",
       "      <td>5</td>\n",
       "      <td>...</td>\n",
       "      <td>0</td>\n",
       "      <td>0</td>\n",
       "      <td>0</td>\n",
       "      <td>4</td>\n",
       "      <td>13</td>\n",
       "      <td>1</td>\n",
       "      <td>0</td>\n",
       "      <td>1</td>\n",
       "      <td>0</td>\n",
       "      <td>0</td>\n",
       "    </tr>\n",
       "    <tr>\n",
       "      <th>2</th>\n",
       "      <td>2</td>\n",
       "      <td>4.0</td>\n",
       "      <td>2.0</td>\n",
       "      <td>5.0</td>\n",
       "      <td>2</td>\n",
       "      <td>3</td>\n",
       "      <td>5</td>\n",
       "      <td>5</td>\n",
       "      <td>5</td>\n",
       "      <td>5</td>\n",
       "      <td>...</td>\n",
       "      <td>0</td>\n",
       "      <td>0</td>\n",
       "      <td>0</td>\n",
       "      <td>2</td>\n",
       "      <td>0</td>\n",
       "      <td>0</td>\n",
       "      <td>0</td>\n",
       "      <td>0</td>\n",
       "      <td>1</td>\n",
       "      <td>0</td>\n",
       "    </tr>\n",
       "    <tr>\n",
       "      <th>3</th>\n",
       "      <td>6</td>\n",
       "      <td>4.5</td>\n",
       "      <td>6.0</td>\n",
       "      <td>6.0</td>\n",
       "      <td>4</td>\n",
       "      <td>4</td>\n",
       "      <td>10</td>\n",
       "      <td>8</td>\n",
       "      <td>10</td>\n",
       "      <td>10</td>\n",
       "      <td>...</td>\n",
       "      <td>12</td>\n",
       "      <td>12</td>\n",
       "      <td>6</td>\n",
       "      <td>3</td>\n",
       "      <td>12</td>\n",
       "      <td>0</td>\n",
       "      <td>0</td>\n",
       "      <td>0</td>\n",
       "      <td>1</td>\n",
       "      <td>0</td>\n",
       "    </tr>\n",
       "    <tr>\n",
       "      <th>4</th>\n",
       "      <td>3</td>\n",
       "      <td>4.0</td>\n",
       "      <td>3.0</td>\n",
       "      <td>4.0</td>\n",
       "      <td>2</td>\n",
       "      <td>2</td>\n",
       "      <td>5</td>\n",
       "      <td>5</td>\n",
       "      <td>5</td>\n",
       "      <td>5</td>\n",
       "      <td>...</td>\n",
       "      <td>4</td>\n",
       "      <td>3</td>\n",
       "      <td>3</td>\n",
       "      <td>4</td>\n",
       "      <td>11</td>\n",
       "      <td>0</td>\n",
       "      <td>0</td>\n",
       "      <td>0</td>\n",
       "      <td>1</td>\n",
       "      <td>0</td>\n",
       "    </tr>\n",
       "  </tbody>\n",
       "</table>\n",
       "<p>5 rows × 44 columns</p>\n",
       "</div>"
      ],
      "text/plain": [
       "   P1   P2   P3   P4  P5  P6  P7  P8  P9  P10  ...  P35  P36  P37  \\\n",
       "0   4  5.0  4.0  4.0   2   2   5   4   5    5  ...    4    3    4   \n",
       "1   4  5.0  4.0  4.0   1   2   5   5   5    5  ...    0    0    0   \n",
       "2   2  4.0  2.0  5.0   2   3   5   5   5    5  ...    0    0    0   \n",
       "3   6  4.5  6.0  6.0   4   4  10   8  10   10  ...   12   12    6   \n",
       "4   3  4.0  3.0  4.0   2   2   5   5   5    5  ...    4    3    3   \n",
       "\n",
       "   Days_from_open  City Cluster  CG_Big Cities  T_DT  T_FC  T_IL  T_MB  \n",
       "0               7             4              1     0     0     1     0  \n",
       "1               4            13              1     0     1     0     0  \n",
       "2               2             0              0     0     0     1     0  \n",
       "3               3            12              0     0     0     1     0  \n",
       "4               4            11              0     0     0     1     0  \n",
       "\n",
       "[5 rows x 44 columns]"
      ]
     },
     "execution_count": 21,
     "metadata": {},
     "output_type": "execute_result"
    }
   ],
   "source": [
    "data.head()"
   ]
  },
  {
   "cell_type": "code",
   "execution_count": 22,
   "metadata": {
    "_cell_guid": "78c08065-2794-4179-98cd-16e2c5830355",
    "_uuid": "c0778fa12495d54da13ca85664b675e24536b8ba"
   },
   "outputs": [
    {
     "data": {
      "text/plain": [
       "P1                 9\n",
       "P2                 9\n",
       "P3                 8\n",
       "P4                 7\n",
       "P5                 7\n",
       "P6                 8\n",
       "P7                 7\n",
       "P8                 8\n",
       "P9                 5\n",
       "P10                4\n",
       "P11                8\n",
       "P12                7\n",
       "P13                5\n",
       "P14               10\n",
       "P15                9\n",
       "P16               10\n",
       "P17               10\n",
       "P18                9\n",
       "P19                9\n",
       "P20                9\n",
       "P21                9\n",
       "P22                5\n",
       "P23                9\n",
       "P24                9\n",
       "P25                9\n",
       "P26               10\n",
       "P27               10\n",
       "P28                9\n",
       "P29                8\n",
       "P30               10\n",
       "P31               10\n",
       "P32               10\n",
       "P33                7\n",
       "P34               11\n",
       "P35                8\n",
       "P36               10\n",
       "P37                8\n",
       "Days_from_open     8\n",
       "City Cluster      20\n",
       "CG_Big Cities      2\n",
       "T_DT               2\n",
       "T_FC               2\n",
       "T_IL               2\n",
       "T_MB               2\n",
       "dtype: int64"
      ]
     },
     "execution_count": 22,
     "metadata": {},
     "output_type": "execute_result"
    }
   ],
   "source": [
    "#Count distinct values for each column in Data frame\n",
    "data.apply(lambda x: len(x.unique()))"
   ]
  },
  {
   "cell_type": "code",
   "execution_count": 28,
   "metadata": {
    "_cell_guid": "572b1009-ff82-4c07-8f15-c8a99bc9c5d8",
    "_uuid": "bdeb3aad8f2c9dfc1a7ac5dc25e0aacea477bce0"
   },
   "outputs": [],
   "source": [
    "# Scale all input features to between 0 and 1.\n",
    "min_max_scaler = MinMaxScaler()\n",
    "data = pd.DataFrame(data=min_max_scaler.fit_transform(data),columns=data.columns, index=data.index)"
   ]
  },
  {
   "cell_type": "code",
   "execution_count": 29,
   "metadata": {
    "_cell_guid": "356b99ad-e521-407e-b9dc-2572cb52b3f1",
    "_uuid": "dc5eb661c12d650f7db0df4b88768e4e1678eaec"
   },
   "outputs": [
    {
     "data": {
      "text/html": [
       "<div>\n",
       "<style scoped>\n",
       "    .dataframe tbody tr th:only-of-type {\n",
       "        vertical-align: middle;\n",
       "    }\n",
       "\n",
       "    .dataframe tbody tr th {\n",
       "        vertical-align: top;\n",
       "    }\n",
       "\n",
       "    .dataframe thead th {\n",
       "        text-align: right;\n",
       "    }\n",
       "</style>\n",
       "<table border=\"1\" class=\"dataframe\">\n",
       "  <thead>\n",
       "    <tr style=\"text-align: right;\">\n",
       "      <th></th>\n",
       "      <th>Id</th>\n",
       "      <th>Open Date</th>\n",
       "      <th>City</th>\n",
       "      <th>City Group</th>\n",
       "      <th>Type</th>\n",
       "      <th>P1</th>\n",
       "      <th>P2</th>\n",
       "      <th>P3</th>\n",
       "      <th>P4</th>\n",
       "      <th>P5</th>\n",
       "      <th>...</th>\n",
       "      <th>P29</th>\n",
       "      <th>P30</th>\n",
       "      <th>P31</th>\n",
       "      <th>P32</th>\n",
       "      <th>P33</th>\n",
       "      <th>P34</th>\n",
       "      <th>P35</th>\n",
       "      <th>P36</th>\n",
       "      <th>P37</th>\n",
       "      <th>revenue</th>\n",
       "    </tr>\n",
       "  </thead>\n",
       "  <tbody>\n",
       "    <tr>\n",
       "      <th>0</th>\n",
       "      <td>0</td>\n",
       "      <td>07/17/1999</td>\n",
       "      <td>İstanbul</td>\n",
       "      <td>Big Cities</td>\n",
       "      <td>IL</td>\n",
       "      <td>4</td>\n",
       "      <td>5.0</td>\n",
       "      <td>4.0</td>\n",
       "      <td>4.0</td>\n",
       "      <td>2</td>\n",
       "      <td>...</td>\n",
       "      <td>3.0</td>\n",
       "      <td>5</td>\n",
       "      <td>3</td>\n",
       "      <td>4</td>\n",
       "      <td>5</td>\n",
       "      <td>5</td>\n",
       "      <td>4</td>\n",
       "      <td>3</td>\n",
       "      <td>4</td>\n",
       "      <td>5653753.0</td>\n",
       "    </tr>\n",
       "    <tr>\n",
       "      <th>1</th>\n",
       "      <td>1</td>\n",
       "      <td>02/14/2008</td>\n",
       "      <td>Ankara</td>\n",
       "      <td>Big Cities</td>\n",
       "      <td>FC</td>\n",
       "      <td>4</td>\n",
       "      <td>5.0</td>\n",
       "      <td>4.0</td>\n",
       "      <td>4.0</td>\n",
       "      <td>1</td>\n",
       "      <td>...</td>\n",
       "      <td>3.0</td>\n",
       "      <td>0</td>\n",
       "      <td>0</td>\n",
       "      <td>0</td>\n",
       "      <td>0</td>\n",
       "      <td>0</td>\n",
       "      <td>0</td>\n",
       "      <td>0</td>\n",
       "      <td>0</td>\n",
       "      <td>6923131.0</td>\n",
       "    </tr>\n",
       "    <tr>\n",
       "      <th>2</th>\n",
       "      <td>2</td>\n",
       "      <td>03/09/2013</td>\n",
       "      <td>Diyarbakır</td>\n",
       "      <td>Other</td>\n",
       "      <td>IL</td>\n",
       "      <td>2</td>\n",
       "      <td>4.0</td>\n",
       "      <td>2.0</td>\n",
       "      <td>5.0</td>\n",
       "      <td>2</td>\n",
       "      <td>...</td>\n",
       "      <td>3.0</td>\n",
       "      <td>0</td>\n",
       "      <td>0</td>\n",
       "      <td>0</td>\n",
       "      <td>0</td>\n",
       "      <td>0</td>\n",
       "      <td>0</td>\n",
       "      <td>0</td>\n",
       "      <td>0</td>\n",
       "      <td>2055379.0</td>\n",
       "    </tr>\n",
       "    <tr>\n",
       "      <th>3</th>\n",
       "      <td>3</td>\n",
       "      <td>02/02/2012</td>\n",
       "      <td>Tokat</td>\n",
       "      <td>Other</td>\n",
       "      <td>IL</td>\n",
       "      <td>6</td>\n",
       "      <td>4.5</td>\n",
       "      <td>6.0</td>\n",
       "      <td>6.0</td>\n",
       "      <td>4</td>\n",
       "      <td>...</td>\n",
       "      <td>7.5</td>\n",
       "      <td>25</td>\n",
       "      <td>12</td>\n",
       "      <td>10</td>\n",
       "      <td>6</td>\n",
       "      <td>18</td>\n",
       "      <td>12</td>\n",
       "      <td>12</td>\n",
       "      <td>6</td>\n",
       "      <td>2675511.0</td>\n",
       "    </tr>\n",
       "    <tr>\n",
       "      <th>4</th>\n",
       "      <td>4</td>\n",
       "      <td>05/09/2009</td>\n",
       "      <td>Gaziantep</td>\n",
       "      <td>Other</td>\n",
       "      <td>IL</td>\n",
       "      <td>3</td>\n",
       "      <td>4.0</td>\n",
       "      <td>3.0</td>\n",
       "      <td>4.0</td>\n",
       "      <td>2</td>\n",
       "      <td>...</td>\n",
       "      <td>3.0</td>\n",
       "      <td>5</td>\n",
       "      <td>1</td>\n",
       "      <td>3</td>\n",
       "      <td>2</td>\n",
       "      <td>3</td>\n",
       "      <td>4</td>\n",
       "      <td>3</td>\n",
       "      <td>3</td>\n",
       "      <td>4316715.0</td>\n",
       "    </tr>\n",
       "  </tbody>\n",
       "</table>\n",
       "<p>5 rows × 43 columns</p>\n",
       "</div>"
      ],
      "text/plain": [
       "   Id   Open Date        City  City Group Type  P1   P2   P3   P4  P5  ...  \\\n",
       "0   0  07/17/1999    İstanbul  Big Cities   IL   4  5.0  4.0  4.0   2  ...   \n",
       "1   1  02/14/2008      Ankara  Big Cities   FC   4  5.0  4.0  4.0   1  ...   \n",
       "2   2  03/09/2013  Diyarbakır       Other   IL   2  4.0  2.0  5.0   2  ...   \n",
       "3   3  02/02/2012       Tokat       Other   IL   6  4.5  6.0  6.0   4  ...   \n",
       "4   4  05/09/2009   Gaziantep       Other   IL   3  4.0  3.0  4.0   2  ...   \n",
       "\n",
       "   P29  P30  P31  P32  P33  P34  P35  P36  P37    revenue  \n",
       "0  3.0    5    3    4    5    5    4    3    4  5653753.0  \n",
       "1  3.0    0    0    0    0    0    0    0    0  6923131.0  \n",
       "2  3.0    0    0    0    0    0    0    0    0  2055379.0  \n",
       "3  7.5   25   12   10    6   18   12   12    6  2675511.0  \n",
       "4  3.0    5    1    3    2    3    4    3    3  4316715.0  \n",
       "\n",
       "[5 rows x 43 columns]"
      ]
     },
     "execution_count": 29,
     "metadata": {},
     "output_type": "execute_result"
    }
   ],
   "source": [
    "train.head()"
   ]
  },
  {
   "cell_type": "code",
   "execution_count": 30,
   "metadata": {
    "_cell_guid": "2577af7f-c95f-427b-a749-86eb044f62ed",
    "_uuid": "2ea9332bee6ad9acecba3cb3ec6fe9f42c3ce009"
   },
   "outputs": [
    {
     "data": {
      "image/png": "[encoded data removed]",
      "text/plain": [
       "<Figure size 1152x432 with 2 Axes>"
      ]
     },
     "metadata": {
      "needs_background": "light"
     },
     "output_type": "display_data"
    }
   ],
   "source": [
    "#Revenue Distribution of Train Set\n",
    "# Check distribution of revenue and log(revenue) (Other Transformation could be Sqrt Transformation)\n",
    "plt.rcParams['figure.figsize'] = (16.0, 6.0)\n",
    "pvalue_before = shapiro(train[\"revenue\"])[1]\n",
    "pvalue_after = shapiro(np.log(train[\"revenue\"]))[1]\n",
    "graph_data = pd.DataFrame(\n",
    "        {\n",
    "            (\"Revenue\\n P-value:\" + str(pvalue_before)) : train[\"revenue\"],\n",
    "            (\"Log(Revenue)\\n P-value:\" + str(pvalue_after)) : np.log(train[\"revenue\"])\n",
    "        }\n",
    "    )\n",
    "graph_data.hist()\n",
    "\n",
    "#Shapiro Wilks test for normality\n",
    "# log transform revenue as it is approximately normal. If this distribution for revenue holds in the test set,\n",
    "# log transforming the variable before training models will improve performance vastly.\n",
    "# However, we cannot be completely certain that this distribution will hold in the test set.\n",
    "train[\"revenue\"] = np.log(train[\"revenue\"])"
   ]
  },
  {
   "cell_type": "code",
   "execution_count": 31,
   "metadata": {
    "_cell_guid": "8e24c6f2-9a4f-4a9b-a287-48435f080218",
    "_uuid": "e778a05cda532a09f70f19ae8722810c366c9bad"
   },
   "outputs": [],
   "source": [
    "# Split into train and test datasets\n",
    "train_processed = data[:num_train]\n",
    "test_processed = data[num_train:]"
   ]
  },
  {
   "cell_type": "code",
   "execution_count": 35,
   "metadata": {},
   "outputs": [
    {
     "name": "stderr",
     "output_type": "stream",
     "text": [
      "C:\\Users\\Aniket.Rele\\Anaconda3\\lib\\site-packages\\sklearn\\utils\\deprecation.py:143: FutureWarning: The sklearn.linear_model.stochastic_gradient module is  deprecated in version 0.22 and will be removed in version 0.24. The corresponding classes / functions should instead be imported from sklearn.linear_model. Anything that cannot be imported from sklearn.linear_model is now part of the private API.\n",
      "  warnings.warn(message, FutureWarning)\n"
     ]
    },
    {
     "data": {
      "text/plain": [
       "{'copy_X': True, 'fit_intercept': True, 'n_jobs': None, 'normalize': False}"
      ]
     },
     "execution_count": 35,
     "metadata": {},
     "output_type": "execute_result"
    }
   ],
   "source": [
    "from sklearn import linear_model, ensemble\n",
    "import matplotlib.pyplot as plt\n",
    "from sklearn.tree import DecisionTreeRegressor, ExtraTreeRegressor\n",
    "from sklearn.linear_model.stochastic_gradient import SGDRegressor\n",
    "from sklearn.svm import SVR\n",
    "\n",
    "regr = linear_model.LinearRegression()\n",
    "regr.get_params()"
   ]
  },
  {
   "cell_type": "code",
   "execution_count": 36,
   "metadata": {},
   "outputs": [],
   "source": [
    "import warnings\n",
    "warnings.filterwarnings('ignore')"
   ]
  },
  {
   "cell_type": "code",
   "execution_count": 40,
   "metadata": {
    "_cell_guid": "e421d915-6c43-4580-9369-e8e07d44cd1b",
    "_kg_hide-input": false,
    "_uuid": "db1262cac127dbf277a663c4fe5d2a48d4d49f46"
   },
   "outputs": [
    {
     "name": "stdout",
     "output_type": "stream",
     "text": [
      "Simple regression\n",
      "Best score : nan\n",
      "Best params : {'copy_X': True, 'fit_intercept': True, 'normalize': True}\n",
      "Best estimator: LinearRegression(normalize=True)\n",
      "[5138153.94568237 2582903.28725565 2778264.57341282 ... 4942559.88190243\n",
      " 6706956.07758788 4780466.71630068]\n"
     ]
    }
   ],
   "source": [
    "# build model\n",
    "from sklearn import linear_model,ensemble\n",
    "from sklearn.model_selection import train_test_split\n",
    "from sklearn import metrics\n",
    "from sklearn.metrics import make_scorer, mean_squared_error\n",
    "import matplotlib.pyplot as plt\n",
    "from sklearn.tree import DecisionTreeRegressor, ExtraTreeRegressor\n",
    "from sklearn.linear_model.stochastic_gradient import SGDRegressor\n",
    "from sklearn.svm import SVR\n",
    "\n",
    "# simple regression\n",
    "print(\"Simple regression\")\n",
    "\n",
    "#create linear regression model object\n",
    "regr = linear_model.LinearRegression()\n",
    "#regr.get_params() -- Check the list of paramters for the given model\n",
    "\n",
    "# create a parameter grid: map the parameter names to the values that should be searched\n",
    "parameters = {'fit_intercept':[True,False], 'normalize':[True,False], 'copy_X':[True, False]}\n",
    "\n",
    "def RMSE(y_true,y_pred):\n",
    "    rmse = mh.sqrt(mean_squared_error(y_true, y_pred))\n",
    "    print('RMSE: %2.3f' % rmse)\n",
    "    return rmse\n",
    "\n",
    "'''def R2(y_true,y_pred):    \n",
    "     r2 = r2_score(y_true, y_pred)\n",
    "     print('R2: %2.3f' % r2)\n",
    "     return r2\n",
    "'''\n",
    "    \n",
    "def two_score(y_true,y_pred):\n",
    "    score = RMSE(y_true,y_pred) #set score here and not below if using MSE in GridCV\n",
    "    #score = R2(y_true,y_pred)\n",
    "    return score\n",
    "\n",
    "my_score = make_scorer(two_score, greater_is_better=False) # change for false if using MSE\n",
    "\n",
    "# instantiate the grid\n",
    "grid = GridSearchCV(regr, parameters, cv=LeaveOneOut())\n",
    "\n",
    "# fit the grid with data\n",
    "grid.fit(train_processed, train[\"revenue\"])\n",
    "\n",
    "# Re-train on full training set using the best parameters found in the last step.\n",
    "# examine the best model\n",
    "print(\"Best score :\",grid.best_score_)\n",
    "print(\"Best params :\",grid.best_params_)\n",
    "print(\"Best estimator:\",grid.best_estimator_)\n",
    "regr.set_params(**grid.best_params_)\n",
    "regr.fit(train_processed, train[\"revenue\"])\n",
    "\n",
    "# results\n",
    "results_regr = regr.predict(test_processed)\n",
    "results_regr_exp=np.exp(results_regr)\n",
    "print(results_regr_exp)"
   ]
  },
  {
   "cell_type": "code",
   "execution_count": 41,
   "metadata": {},
   "outputs": [],
   "source": [
    "submission_lin_reg = pd.DataFrame(columns=['Prediction'],index=test.index, data=results_regr_exp)\n",
    "submission_lin_reg.index.name = 'Id'"
   ]
  },
  {
   "cell_type": "code",
   "execution_count": 42,
   "metadata": {
    "_kg_hide-input": false,
    "_kg_hide-output": true
   },
   "outputs": [
    {
     "data": {
      "text/html": [
       "<div>\n",
       "<style scoped>\n",
       "    .dataframe tbody tr th:only-of-type {\n",
       "        vertical-align: middle;\n",
       "    }\n",
       "\n",
       "    .dataframe tbody tr th {\n",
       "        vertical-align: top;\n",
       "    }\n",
       "\n",
       "    .dataframe thead th {\n",
       "        text-align: right;\n",
       "    }\n",
       "</style>\n",
       "<table border=\"1\" class=\"dataframe\">\n",
       "  <thead>\n",
       "    <tr style=\"text-align: right;\">\n",
       "      <th></th>\n",
       "      <th>Prediction</th>\n",
       "    </tr>\n",
       "  </thead>\n",
       "  <tbody>\n",
       "    <tr>\n",
       "      <th>count</th>\n",
       "      <td>100000</td>\n",
       "    </tr>\n",
       "    <tr>\n",
       "      <th>mean</th>\n",
       "      <td>6656681</td>\n",
       "    </tr>\n",
       "    <tr>\n",
       "      <th>std</th>\n",
       "      <td>23000021</td>\n",
       "    </tr>\n",
       "    <tr>\n",
       "      <th>min</th>\n",
       "      <td>6702</td>\n",
       "    </tr>\n",
       "    <tr>\n",
       "      <th>25%</th>\n",
       "      <td>2856341</td>\n",
       "    </tr>\n",
       "    <tr>\n",
       "      <th>50%</th>\n",
       "      <td>4068098</td>\n",
       "    </tr>\n",
       "    <tr>\n",
       "      <th>75%</th>\n",
       "      <td>6045713</td>\n",
       "    </tr>\n",
       "    <tr>\n",
       "      <th>max</th>\n",
       "      <td>-2147483648</td>\n",
       "    </tr>\n",
       "  </tbody>\n",
       "</table>\n",
       "</div>"
      ],
      "text/plain": [
       "       Prediction\n",
       "count      100000\n",
       "mean      6656681\n",
       "std      23000021\n",
       "min          6702\n",
       "25%       2856341\n",
       "50%       4068098\n",
       "75%       6045713\n",
       "max   -2147483648"
      ]
     },
     "execution_count": 42,
     "metadata": {},
     "output_type": "execute_result"
    }
   ],
   "source": [
    "submission_lin_reg.describe().astype(int)"
   ]
  },
  {
   "cell_type": "code",
   "execution_count": 43,
   "metadata": {},
   "outputs": [
    {
     "name": "stdout",
     "output_type": "stream",
     "text": [
      "Best score : nan\n",
      "Best params : {'alpha': 1.0, 'normalize': True}\n",
      "Best estimator: Ridge(normalize=True)\n",
      "[3918402.54803536 3614081.54030424 3920988.04142264 ... 4049250.84476784\n",
      " 4299999.43343835 3793936.38463242]\n"
     ]
    }
   ],
   "source": [
    "# Ridge model\n",
    "model_grid = [{'normalize': [True, False], 'alpha': np.logspace(0,10)}]\n",
    "ridge_clf = Ridge()\n",
    "\n",
    "# Use a grid search and leave-one-out CV on the train set to find the best regularization parameter to use.\n",
    "grid = GridSearchCV(ridge_clf, model_grid, cv=LeaveOneOut())\n",
    "grid.fit(train_processed, train[\"revenue\"])\n",
    "\n",
    "# Re-train on full training set using the best parameters found in the last step.\n",
    "# examine the best model\n",
    "print(\"Best score :\",grid.best_score_)\n",
    "print(\"Best params :\",grid.best_params_)\n",
    "print(\"Best estimator:\",grid.best_estimator_)\n",
    "ridge_clf.set_params(**grid.best_params_)\n",
    "ridge_clf.fit(train_processed, train[\"revenue\"])\n",
    "\n",
    "# results_ridge = np.exp(ridge_clf.predict(test_processed))\n",
    "results_ridge = ridge_clf.predict(test_processed)\n",
    "results_ridge_exp=np.exp(results_ridge)\n",
    "print(results_ridge_exp)"
   ]
  },
  {
   "cell_type": "code",
   "execution_count": 44,
   "metadata": {},
   "outputs": [
    {
     "name": "stdout",
     "output_type": "stream",
     "text": [
      "Best score : nan\n",
      "Best params : {'alpha': 1.0, 'normalize': True}\n",
      "Best estimator: Lasso(normalize=True)\n",
      "[3941975.68112035 3941975.68112035 3941975.68112035 ... 3941975.68112035\n",
      " 3941975.68112035 3941975.68112035]\n"
     ]
    }
   ],
   "source": [
    "# Lasso model\n",
    "model_grid = [{'normalize': [True, False], 'alpha': np.logspace(0,10)}]\n",
    "lasso_clf = Lasso()\n",
    "\n",
    "# Use a grid search and leave-one-out CV on the train set to find the best regularization parameter to use.\n",
    "grid = GridSearchCV(lasso_clf, model_grid, cv=LeaveOneOut())\n",
    "grid.fit(train_processed, train[\"revenue\"])\n",
    "\n",
    "# Re-train on full training set using the best parameters found in the last step.\n",
    "print(\"Best score :\",grid.best_score_)\n",
    "print(\"Best params :\",grid.best_params_)\n",
    "print(\"Best estimator:\",grid.best_estimator_)\n",
    "lasso_clf.set_params(**grid.best_params_)\n",
    "lasso_clf.fit(train_processed, train[\"revenue\"])\n",
    "\n",
    "#Predict the test set\n",
    "results_lasso = lasso_clf.predict(test_processed)\n",
    "results_lasso_exp = np.exp(results_lasso)\n",
    "print(results_lasso_exp)"
   ]
  },
  {
   "cell_type": "code",
   "execution_count": 45,
   "metadata": {},
   "outputs": [
    {
     "name": "stdout",
     "output_type": "stream",
     "text": [
      "[4025394.54913642 2955953.86763557 2870199.14772998 ... 4500684.9351339\n",
      " 4790915.63766092 3428741.75369285]\n"
     ]
    }
   ],
   "source": [
    "#SVR()\n",
    "from sklearn.svm import SVR, LinearSVR\n",
    "\n",
    "svr = SVR(C=1, epsilon=0.1)\n",
    "svr.fit(train_processed, train[\"revenue\"])\n",
    "results_svm = svr.predict(test_processed)\n",
    "results_svm_exp = np.exp(results_svm)\n",
    "print(results_svm_exp)"
   ]
  }
 ],
 "metadata": {
  "kernelspec": {
   "display_name": "Python 3",
   "language": "python",
   "name": "python3"
  },
  "language_info": {
   "codemirror_mode": {
    "name": "ipython",
    "version": 3
   },
   "file_extension": ".py",
   "mimetype": "text/x-python",
   "name": "python",
   "nbconvert_exporter": "python",
   "pygments_lexer": "ipython3",
   "version": "3.7.6"
  }
 },
 "nbformat": 4,
 "nbformat_minor": 1
}
